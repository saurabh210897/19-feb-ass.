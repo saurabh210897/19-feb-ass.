{
 "cells": [
  {
   "cell_type": "code",
   "execution_count": 6,
   "id": "a667e6fc-9961-4052-a953-1211a22ba183",
   "metadata": {},
   "outputs": [],
   "source": [
    "#Q1. What is Flask Framework? What are the advantages of Flask Framework?\n",
    "\n",
    "#Q2. Create a simple Flask application to display ‘Hello World!!’. Attach the screenshot of the output in Jupyter Notebook.\n",
    "\n",
    "#Q3. What is App routing in Flask? Why do we use app routes?\n",
    "\n",
    "#Q4.  Create a “/welcome” route to display the welcome message “Welcome to ABC Corporation” and a “/” route to show the following details:\n",
    "\n",
    "#     Company Name: ABC Corporation\n",
    "#     Location: India\n",
    "#     Contact Detail: 999-999-9999 \n",
    "\n",
    "# Attach the screenshot of the output in Jupyter Notebook.\n",
    "\n",
    "#Q5. What function is used in Flask for URL Building? Write a Python code to demonstrate the working of the url_for() function."
   ]
  },
  {
   "cell_type": "code",
   "execution_count": 2,
   "id": "9a53dcaa-8310-41df-b2db-2eab1e097ca4",
   "metadata": {},
   "outputs": [],
   "source": [
    "#Q1. What is Flask Framework? What are the advantages of Flask Framework?"
   ]
  },
  {
   "cell_type": "code",
   "execution_count": 3,
   "id": "02c18b24-90a3-40ef-ba97-3111beace6cf",
   "metadata": {},
   "outputs": [],
   "source": [
    "# Flask is a lightweight web application framework for Python. It is designed to be simple, flexible, and easy to use. Flask allows developers to quickly build web applications \n",
    "# with Python. Flask does not require particular tools or libraries and it has no database abstraction layer, form validation, or any other components where pre-existing \n",
    "# third-party libraries provide common functions.\n",
    "\n",
    "# Some of the advantages of Flask framework are:\n",
    "\n",
    "# Easy to get started: Flask is easy to learn and use, especially for developers who are already familiar with Python. Flask has a small codebase, so developers can get started quickly \n",
    "# and focus on writing their application code.\n",
    "\n",
    "# Flexible and extensible: Flask is designed to be flexible and extensible. It provides developers with the freedom to choose the tools and libraries they want to use. \n",
    "# Flask also allows developers to add their own extensions to the framework.\n",
    "\n",
    "# Lightweight: Flask is a lightweight framework, which means it does not come with a lot of overhead. This makes it a good choice for building small to medium-sized web applications.\n",
    "\n",
    "# Easy to test: Flask provides built-in support for testing, which makes it easy to write unit tests for your application.\n",
    "\n",
    "# Large community: Flask has a large community of developers who contribute to the framework. This means there are many third-party libraries and extensions available for Flask."
   ]
  },
  {
   "cell_type": "code",
   "execution_count": 7,
   "id": "43f61ff2-f6f7-4d34-810a-a994c9116d1e",
   "metadata": {},
   "outputs": [],
   "source": [
    "#Q2. Create a simple Flask application to display ‘Hello World!!’. Attach the screenshot of the output in Jupyter Notebook."
   ]
  },
  {
   "cell_type": "code",
   "execution_count": 8,
   "id": "c89f7a12-a100-4637-9e55-54849cf6182b",
   "metadata": {},
   "outputs": [
    {
     "ename": "SyntaxError",
     "evalue": "invalid syntax (224548110.py, line 1)",
     "output_type": "error",
     "traceback": [
      "\u001b[0;36m  Cell \u001b[0;32mIn[8], line 1\u001b[0;36m\u001b[0m\n\u001b[0;31m    pip install flask\u001b[0m\n\u001b[0m        ^\u001b[0m\n\u001b[0;31mSyntaxError\u001b[0m\u001b[0;31m:\u001b[0m invalid syntax\n"
     ]
    }
   ],
   "source": [
    "pip install flask\n",
    "\n",
    "from flask import Flask\n",
    "\n",
    "app = Flask(__name__)\n",
    "\n",
    "@app.route(\"/\")\n",
    "def hello_world():\n",
    "    return \"<h1>Hello, World!</h1>\"\n",
    "\n",
    "@app.route(\"/hellow_world1\")\n",
    "def hello_world1():\n",
    "    return \"<h1>Hello, World!1</h1>\"\n",
    "\n",
    "if __name__==\"__main__\":\n",
    "    app.run(host=\"0.0.0.0\")"
   ]
  },
  {
   "cell_type": "code",
   "execution_count": 10,
   "id": "5af1a950-b1df-436e-8033-6fd07f77eeb5",
   "metadata": {},
   "outputs": [],
   "source": [
    "# output :- Hellow World"
   ]
  },
  {
   "cell_type": "code",
   "execution_count": 11,
   "id": "bb69b295-170c-46d9-9787-640d9f90f889",
   "metadata": {},
   "outputs": [],
   "source": [
    "#Q3. What is App routing in Flask? Why do we use app routes?"
   ]
  },
  {
   "cell_type": "code",
   "execution_count": 1,
   "id": "af8c2385-d7ff-45b6-a495-10823534f9cd",
   "metadata": {},
   "outputs": [
    {
     "ename": "ModuleNotFoundError",
     "evalue": "No module named 'flask'",
     "output_type": "error",
     "traceback": [
      "\u001b[0;31m---------------------------------------------------------------------------\u001b[0m",
      "\u001b[0;31mModuleNotFoundError\u001b[0m                       Traceback (most recent call last)",
      "Cell \u001b[0;32mIn[1], line 6\u001b[0m\n\u001b[1;32m      1\u001b[0m \u001b[38;5;66;03m# In Flask, app routing is a way to define the URLs or routes for your web application. It allows you to map a URL to a function that will handle the request for that URL.\u001b[39;00m\n\u001b[1;32m      2\u001b[0m \u001b[38;5;66;03m# This is done using the @app.route() decorator in Flask\u001b[39;00m\n\u001b[1;32m      3\u001b[0m \n\u001b[1;32m      4\u001b[0m \u001b[38;5;66;03m# For example, consider the following code:\u001b[39;00m\n\u001b[0;32m----> 6\u001b[0m \u001b[38;5;28;01mfrom\u001b[39;00m \u001b[38;5;21;01mflask\u001b[39;00m \u001b[38;5;28;01mimport\u001b[39;00m Flask\n\u001b[1;32m      8\u001b[0m app \u001b[38;5;241m=\u001b[39m Flask(\u001b[38;5;18m__name__\u001b[39m)\n\u001b[1;32m     10\u001b[0m \u001b[38;5;129m@app\u001b[39m\u001b[38;5;241m.\u001b[39mroute(\u001b[38;5;124m'\u001b[39m\u001b[38;5;124m/\u001b[39m\u001b[38;5;124m'\u001b[39m)\n\u001b[1;32m     11\u001b[0m \u001b[38;5;28;01mdef\u001b[39;00m \u001b[38;5;21mhome\u001b[39m():\n",
      "\u001b[0;31mModuleNotFoundError\u001b[0m: No module named 'flask'"
     ]
    }
   ],
   "source": [
    "# In Flask, app routing is a way to define the URLs or routes for your web application. It allows you to map a URL to a function that will handle the request for that URL.\n",
    "# This is done using the @app.route() decorator in Flask\n",
    "\n",
    "# For example, consider the following code:\n",
    "\n",
    "from flask import Flask\n",
    "\n",
    "app = Flask(__name__)\n",
    "\n",
    "@app.route('/')\n",
    "def home():\n",
    "    return 'Hello, this is the home page.'\n",
    "\n",
    "@app.route('/about')\n",
    "def about():\n",
    "    return 'This is the about page.'\n",
    "\n",
    "if __name__ == '__main__':\n",
    "    app.run()\n",
    "    \n",
    "# Here, we have defined two routes using the @app.route() decorator. The first route is for the home page ('/') and the second route is for the about page ('/about').\n",
    "# When a user visits the home page ('/'), Flask will call the home() function \n",
    "# and return the message \"Hello, this is the home page.\". When a user visits the about page ('/about'), Flask will call the about() function and return the message \n",
    "# \"This is the about page.\".\n",
    "\n",
    "# We use app routes in Flask to define the URLs for our web application and map them to specific functions. This helps to organize our code and make it more readable and maintainable. \n",
    "# App routes also make it easy to handle different types of requests (GET, POST, etc.) for different URLs. Additionally, app routes allow for dynamic URL building by passing parameters \n",
    "# to the function, which is useful when working with databases or other types of data that change frequently.\n",
    "\n",
    "# In summary, app routing in Flask is a way to define the URLs or routes for your web application and map them to specific functions. We use app routes to organize our code, \n",
    "# handle different types of requests, and allow for dynamic URL building."
   ]
  },
  {
   "cell_type": "code",
   "execution_count": 2,
   "id": "4719d0a4-57b7-4d59-baaf-1bea2d976334",
   "metadata": {},
   "outputs": [],
   "source": [
    "#Q4.  Create a “/welcome” route to display the welcome message “Welcome to ABC Corporation” and a “/” route to show the following details:\n",
    "\n",
    "#     Company Name: ABC Corporation\n",
    "#     Location: India\n",
    "#     Contact Detail: 999-999-9999 "
   ]
  },
  {
   "cell_type": "code",
   "execution_count": 3,
   "id": "1991f516-5d13-48ac-9047-6ed2b895ab93",
   "metadata": {},
   "outputs": [
    {
     "ename": "ModuleNotFoundError",
     "evalue": "No module named 'flask'",
     "output_type": "error",
     "traceback": [
      "\u001b[0;31m---------------------------------------------------------------------------\u001b[0m",
      "\u001b[0;31mModuleNotFoundError\u001b[0m                       Traceback (most recent call last)",
      "Cell \u001b[0;32mIn[3], line 1\u001b[0m\n\u001b[0;32m----> 1\u001b[0m \u001b[38;5;28;01mfrom\u001b[39;00m \u001b[38;5;21;01mflask\u001b[39;00m \u001b[38;5;28;01mimport\u001b[39;00m Flask\n\u001b[1;32m      2\u001b[0m \u001b[38;5;28;01mfrom\u001b[39;00m \u001b[38;5;21;01mflask\u001b[39;00m \u001b[38;5;28;01mimport\u001b[39;00m request\n\u001b[1;32m      4\u001b[0m app \u001b[38;5;241m=\u001b[39m Flask(\u001b[38;5;18m__name__\u001b[39m)\n",
      "\u001b[0;31mModuleNotFoundError\u001b[0m: No module named 'flask'"
     ]
    }
   ],
   "source": [
    "from flask import Flask\n",
    "from flask import request\n",
    "\n",
    "app = Flask(__name__)\n",
    "\n",
    "@app.route(\"/welcome\")\n",
    "def welcome():\n",
    "    return \"welcome to ABC corporation\"\n",
    "\n",
    "@app.route(\"/a\")\n",
    "def a():\n",
    "    return 'Company Name: ABC Corporation<br>Location: India<br>Contact Detail: 999-999-9999'\n",
    "\n",
    "if __name__==\"__main__\":\n",
    "    app.run(host=\"0.0.0.0\")\n"
   ]
  },
  {
   "cell_type": "code",
   "execution_count": 4,
   "id": "baef489f-52f9-4ec1-839a-6efa782b317e",
   "metadata": {},
   "outputs": [],
   "source": [
    "#Q5. What function is used in Flask for URL Building? Write a Python code to demonstrate the working of the url_for() function."
   ]
  },
  {
   "cell_type": "code",
   "execution_count": 5,
   "id": "d286e454-5cbe-4e4c-bd21-fdfe9cde2202",
   "metadata": {},
   "outputs": [
    {
     "ename": "ModuleNotFoundError",
     "evalue": "No module named 'flask'",
     "output_type": "error",
     "traceback": [
      "\u001b[0;31m---------------------------------------------------------------------------\u001b[0m",
      "\u001b[0;31mModuleNotFoundError\u001b[0m                       Traceback (most recent call last)",
      "Cell \u001b[0;32mIn[5], line 1\u001b[0m\n\u001b[0;32m----> 1\u001b[0m \u001b[38;5;28;01mfrom\u001b[39;00m \u001b[38;5;21;01mflask\u001b[39;00m \u001b[38;5;28;01mimport\u001b[39;00m Flask\n\u001b[1;32m      2\u001b[0m \u001b[38;5;28;01mfrom\u001b[39;00m \u001b[38;5;21;01mflask\u001b[39;00m \u001b[38;5;28;01mimport\u001b[39;00m request\n\u001b[1;32m      4\u001b[0m app \u001b[38;5;241m=\u001b[39m Flask(\u001b[38;5;18m__name__\u001b[39m)\n",
      "\u001b[0;31mModuleNotFoundError\u001b[0m: No module named 'flask'"
     ]
    }
   ],
   "source": [
    "from flask import Flask\n",
    "from flask import request\n",
    "\n",
    "app = Flask(__name__)\n",
    "\n",
    "@app.route(\"/\")\n",
    "def hello_world():\n",
    "    return \"<h1>Hello, World!</h1>\"\n",
    "\n",
    "@app.route(\"/test\")\n",
    "def test():\n",
    "    data = request.args.get('x')\n",
    "    return \"this my data input from my url {}\".format(data)\n",
    "\n",
    "@app.route(\"/welcome\")\n",
    "def welcome():\n",
    "    return \"welcome to ABC corporation\"\n",
    "\n",
    "@app.route(\"/a\")\n",
    "def a():\n",
    "    return 'Company Name: ABC Corporation<br>Location: India<br>Contact Detail: 999-999-9999'\n",
    "\n",
    "\n",
    "@app.route(\"/test1\")\n",
    "def test1():\n",
    "    data = request.args.get('x')\n",
    "    return \"this my data input from my url {}\".format(data)\n",
    "\n",
    "if __name__==\"__main__\":\n",
    "    app.run(host=\"0.0.0.0\")\n"
   ]
  },
  {
   "cell_type": "code",
   "execution_count": null,
   "id": "ccf9802b-7f3e-47fa-bf9f-74d0827a19d1",
   "metadata": {},
   "outputs": [],
   "source": []
  }
 ],
 "metadata": {
  "kernelspec": {
   "display_name": "Python 3 (ipykernel)",
   "language": "python",
   "name": "python3"
  },
  "language_info": {
   "codemirror_mode": {
    "name": "ipython",
    "version": 3
   },
   "file_extension": ".py",
   "mimetype": "text/x-python",
   "name": "python",
   "nbconvert_exporter": "python",
   "pygments_lexer": "ipython3",
   "version": "3.10.8"
  }
 },
 "nbformat": 4,
 "nbformat_minor": 5
}
